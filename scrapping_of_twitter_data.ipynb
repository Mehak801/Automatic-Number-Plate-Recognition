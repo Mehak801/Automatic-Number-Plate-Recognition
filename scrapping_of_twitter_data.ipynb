{
  "cells": [
    {
      "cell_type": "code",
      "execution_count": null,
      "metadata": {
        "id": "mBNGmZ8Qb6Pd",
        "outputId": "d2dfa3fa-bfb6-4f0f-8750-8951379e978a"
      },
      "outputs": [
        {
          "name": "stdout",
          "output_type": "stream",
          "text": [
            "Collecting selenium\n",
            "  Using cached https://files.pythonhosted.org/packages/ad/24/39cab5fbaf425ff522e1e51cce79f94f10f9523f015d2b2251e43f45e8a2/selenium-4.0.0-py3-none-any.whl\n",
            "Collecting trio~=0.17 (from selenium)\n",
            "  Using cached https://files.pythonhosted.org/packages/35/c3/5a4befc3812b3b606e0ae9338bfdd02da3ad0a90df27dc66c37315e94f5c/trio-0.19.0-py3-none-any.whl\n",
            "Collecting trio-websocket~=0.9 (from selenium)\n",
            "  Using cached https://files.pythonhosted.org/packages/db/c5/b5e8bc1f40568a354f2a9cc296b8892605a9d2f22e725290fc33836dd2a3/trio_websocket-0.9.2-py3-none-any.whl\n",
            "Requirement already satisfied: urllib3[secure]~=1.26 in c:\\users\\vartica jain\\anaconda3\\lib\\site-packages (from selenium) (1.26.7)\n",
            "Requirement already satisfied: cffi>=1.14; os_name == \"nt\" and implementation_name != \"pypy\" in c:\\users\\vartica jain\\anaconda3\\lib\\site-packages (from trio~=0.17->selenium) (1.15.0)\n",
            "Collecting outcome (from trio~=0.17->selenium)\n",
            "  Using cached https://files.pythonhosted.org/packages/0d/bb/f60ce97b304b1979d1fef96b6517af47b9bb026770b1f198b6e921b5edf5/outcome-1.1.0-py2.py3-none-any.whl\n",
            "Collecting sniffio (from trio~=0.17->selenium)\n",
            "  Using cached https://files.pythonhosted.org/packages/52/b0/7b2e028b63d092804b6794595871f936aafa5e9322dcaaad50ebf67445b3/sniffio-1.2.0-py3-none-any.whl\n",
            "Collecting async-generator>=1.9 (from trio~=0.17->selenium)\n",
            "  Using cached https://files.pythonhosted.org/packages/71/52/39d20e03abd0ac9159c162ec24b93fbcaa111e8400308f2465432495ca2b/async_generator-1.10-py3-none-any.whl\n",
            "Requirement already satisfied: idna in c:\\users\\vartica jain\\anaconda3\\lib\\site-packages (from trio~=0.17->selenium) (2.8)\n",
            "Collecting attrs>=19.2.0 (from trio~=0.17->selenium)\n",
            "  Using cached https://files.pythonhosted.org/packages/20/a9/ba6f1cd1a1517ff022b35acd6a7e4246371dfab08b8e42b829b6d07913cc/attrs-21.2.0-py2.py3-none-any.whl\n",
            "Requirement already satisfied: sortedcontainers in c:\\users\\vartica jain\\anaconda3\\lib\\site-packages (from trio~=0.17->selenium) (2.1.0)\n",
            "Collecting wsproto>=0.14 (from trio-websocket~=0.9->selenium)\n",
            "  Using cached https://files.pythonhosted.org/packages/ea/25/0934b1d00f404d75335b144d4396e01998f25db8953bf54b4d6fe65b80ab/wsproto-1.0.0-py3-none-any.whl\n",
            "Requirement already satisfied: pyOpenSSL>=0.14; extra == \"secure\" in c:\\users\\vartica jain\\anaconda3\\lib\\site-packages (from urllib3[secure]~=1.26->selenium) (18.0.0)\n",
            "Requirement already satisfied: cryptography>=1.3.4; extra == \"secure\" in c:\\users\\vartica jain\\anaconda3\\lib\\site-packages (from urllib3[secure]~=1.26->selenium) (2.4.2)\n",
            "Requirement already satisfied: certifi; extra == \"secure\" in c:\\users\\vartica jain\\anaconda3\\lib\\site-packages (from urllib3[secure]~=1.26->selenium) (2018.11.29)\n",
            "Requirement already satisfied: pycparser in c:\\users\\vartica jain\\anaconda3\\lib\\site-packages (from cffi>=1.14; os_name == \"nt\" and implementation_name != \"pypy\"->trio~=0.17->selenium) (2.19)\n",
            "Collecting h11<1,>=0.9.0 (from wsproto>=0.14->trio-websocket~=0.9->selenium)\n",
            "  Using cached https://files.pythonhosted.org/packages/60/0f/7a0eeea938eaf61074f29fed9717f2010e8d0e0905d36b38d3275a1e4622/h11-0.12.0-py3-none-any.whl\n",
            "Requirement already satisfied: six>=1.5.2 in c:\\users\\vartica jain\\anaconda3\\lib\\site-packages (from pyOpenSSL>=0.14; extra == \"secure\"->urllib3[secure]~=1.26->selenium) (1.12.0)\n",
            "Requirement already satisfied: asn1crypto>=0.21.0 in c:\\users\\vartica jain\\anaconda3\\lib\\site-packages (from cryptography>=1.3.4; extra == \"secure\"->urllib3[secure]~=1.26->selenium) (0.24.0)\n",
            "Installing collected packages: attrs, outcome, sniffio, async-generator, trio, h11, wsproto, trio-websocket, selenium\n",
            "  Found existing installation: attrs 18.2.0\n",
            "    Uninstalling attrs-18.2.0:\n",
            "      Successfully uninstalled attrs-18.2.0\n",
            "Successfully installed async-generator-1.10 attrs-21.2.0 h11-0.12.0 outcome-1.1.0 selenium-4.0.0 sniffio-1.2.0 trio-0.19.0 trio-websocket-0.9.2 wsproto-1.0.0\n"
          ]
        }
      ],
      "source": [
        "!pip install selenium\n"
      ]
    },
    {
      "cell_type": "code",
      "execution_count": null,
      "metadata": {
        "id": "O9fHYli7b6Pi",
        "outputId": "3d2eb579-2f55-4149-9575-dbcba5e12ea9"
      },
      "outputs": [
        {
          "name": "stdout",
          "output_type": "stream",
          "text": [
            "Collecting numpy\n",
            "  Downloading https://files.pythonhosted.org/packages/9a/e3/56f6241cf309ff2f6d1df97fc0ba42a156526efa09261ee53f08521b7da3/numpy-1.21.4-cp37-cp37m-win_amd64.whl (14.0MB)\n",
            "Installing collected packages: numpy\n",
            "Successfully installed numpy-1.21.4\n"
          ]
        }
      ],
      "source": [
        "!pip install numpy"
      ]
    },
    {
      "cell_type": "code",
      "execution_count": null,
      "metadata": {
        "id": "7hzngDrOb6Pj",
        "outputId": "e9845907-b19e-4741-c0c8-e0bb23f1039b"
      },
      "outputs": [
        {
          "name": "stderr",
          "output_type": "stream",
          "text": [
            "C:\\Users\\Vartica Jain\\Anaconda3\\lib\\site-packages\\ipykernel_launcher.py:10: DeprecationWarning: executable_path has been deprecated, please pass in a Service object\n",
            "  # Remove the CWD from sys.path while we load stuff.\n"
          ]
        },
        {
          "name": "stdout",
          "output_type": "stream",
          "text": [
            "Found 1\n",
            "Found 2\n",
            "Found 3\n",
            "Found 4\n",
            "Found 5\n",
            "Found 6\n",
            "Found 7\n",
            "Found 8\n",
            "Found 9\n",
            "Found 10\n",
            "Success\n",
            "Success\n",
            "Success\n",
            "Success\n",
            "Success\n",
            "Success\n",
            "Success\n",
            "Success\n",
            "Success\n",
            "Success\n"
          ]
        }
      ],
      "source": [
        "from selenium import webdriver\n",
        "from selenium.webdriver.common.by import By\n",
        "import requests\n",
        "import io\n",
        "from PIL import Image\n",
        "import time\n",
        "\n",
        "PATH = \"C:\\\\Users\\\\Vartica Jain\\\\Desktop\\\\New folder\\\\chromedriver.exe\"\n",
        "\n",
        "wd = webdriver.Chrome(PATH)\n",
        "\n",
        "def get_images_from_twitter(wd, delay, max_images):\n",
        "    def scroll_down(wd):\n",
        "        wd.execute_script(\"window.scrollTo(0, document.body.scrollHeight);\")\n",
        "        time.sleep(delay)\n",
        "\n",
        "    url = \"hhttps://twitter.com/search?q=%23dtptraffic&src=typed_query&f=image\"\n",
        "    wd.get(url)\n",
        "\n",
        "    image_urls = set()\n",
        "    skips = 0\n",
        "\n",
        "    while len(image_urls) + skips < max_images:\n",
        "        scroll_down(wd)\n",
        "\n",
        "        thumbnails = wd.find_elements(By.CLASS_NAME, \"Q4LuWd\")\n",
        "\n",
        "        for img in thumbnails[len(image_urls) + skips:max_images]:\n",
        "            try:\n",
        "                img.click()\n",
        "                time.sleep(delay)\n",
        "            except:\n",
        "                continue\n",
        "\n",
        "            images = wd.find_elements(By.CLASS_NAME, \"n3VNCb\")\n",
        "            for image in images:\n",
        "                if image.get_attribute('src') in image_urls:\n",
        "                    max_images += 1\n",
        "                    skips += 1\n",
        "                    break\n",
        "\n",
        "                if image.get_attribute('src') and 'http' in image.get_attribute('src'):\n",
        "                    image_urls.add(image.get_attribute('src'))\n",
        "                    print(f\"Found {len(image_urls)}\")\n",
        "\n",
        "    return image_urls\n",
        "\n",
        "\n",
        "def download_image(download_path, url, file_name):\n",
        "    try:\n",
        "        image_content = requests.get(url).content\n",
        "        image_file = io.BytesIO(image_content)\n",
        "        image = Image.open(image_file)\n",
        "        file_path = download_path + file_name\n",
        "\n",
        "        with open(file_path, \"wb\") as f:\n",
        "            image.save(f, \"JPEG\")\n",
        "\n",
        "        print(\"Success\")\n",
        "    except Exception as e:\n",
        "        print('FAILED -', e)\n",
        "\n",
        "urls = get_images_from_twitter(wd, 1, 10)\n",
        "\n",
        "for i, url in enumerate(urls):\n",
        "    download_image(\"images2/\", url, str(i) + \".jpg\")\n",
        "\n",
        "wd.quit()"
      ]
    },
    {
      "cell_type": "code",
      "execution_count": null,
      "metadata": {
        "id": "09cDLtxUb6Pl"
      },
      "outputs": [],
      "source": [
        ""
      ]
    }
  ],
  "metadata": {
    "kernelspec": {
      "display_name": "Python 3",
      "language": "python",
      "name": "python3"
    },
    "language_info": {
      "codemirror_mode": {
        "name": "ipython",
        "version": 3
      },
      "file_extension": ".py",
      "mimetype": "text/x-python",
      "name": "python",
      "nbconvert_exporter": "python",
      "pygments_lexer": "ipython3",
      "version": "3.7.1"
    },
    "colab": {
      "name": "scrapping of twitter data.ipynb",
      "provenance": []
    }
  },
  "nbformat": 4,
  "nbformat_minor": 0
}